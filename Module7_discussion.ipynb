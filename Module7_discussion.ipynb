{
 "cells": [
  {
   "cell_type": "markdown",
   "metadata": {},
   "source": [
    "### Module 7 Discussion\n",
    "\n",
    "Module 7 Discussion - Optimization Methods\n",
    "\n",
    "How does the approach to maximization and minimization problems in chapters 13 and 14 compare to what you learned in Module 3 (Chapters 3 and 4 of the text)? "
   ]
  },
  {
   "cell_type": "markdown",
   "metadata": {},
   "source": [
    "I thought that a simple online search would show some examples of minima and maxima that I could work with. Unfortunately, I didn't find any so I made one up. There was a little bit of trial and error in the process.\n",
    "\n",
    "The scenario is as follows:  A food processor receives deliveries from farmers each day.  The problem is that the distributor can receive anywhere between 0 and 19 food deliveries and really doesn't know exactly how many to expect each day.  Based on past experience the probabilities of each number of deliveries are shown in the list \"probabilities\" below."
   ]
  },
  {
   "cell_type": "code",
   "execution_count": 1,
   "metadata": {},
   "outputs": [],
   "source": [
    "import numpy as np\n",
    "import matplotlib.pyplot as plt\n",
    "import random\n",
    "%matplotlib inline"
   ]
  },
  {
   "cell_type": "code",
   "execution_count": 2,
   "metadata": {},
   "outputs": [],
   "source": [
    "deliveries = np.arange(0, 20, 1)"
   ]
  },
  {
   "cell_type": "code",
   "execution_count": 3,
   "metadata": {},
   "outputs": [],
   "source": [
    "# list showing probabilities for each number of deliveries\n",
    "probabilities = [0.02, 0.025, 0.03, 0.035, 0.045, 0.055, 0.07, 0.055, 0.05, 0.045, 0.035, 0.045, 0.055, \n",
    "                 0.065, 0.07, .08, 0.07, 0.055, 0.05, 0.045]"
   ]
  },
  {
   "cell_type": "code",
   "execution_count": 4,
   "metadata": {},
   "outputs": [
    {
     "name": "stdout",
     "output_type": "stream",
     "text": [
      "OK - This is a valid distribution.\n"
     ]
    }
   ],
   "source": [
    "# verify that this is a valid probability distribution:\n",
    "if round(sum(probabilities),5) == 1.0:\n",
    "    print('OK - This is a valid distribution.')\n",
    "else:\n",
    "    print('Hold on! These probabilities do not sum to one.')"
   ]
  },
  {
   "cell_type": "code",
   "execution_count": 5,
   "metadata": {},
   "outputs": [
    {
     "data": {
      "image/png": "[encoded data removed]",
      "text/plain": [
       "<Figure size 432x288 with 1 Axes>"
      ]
     },
     "metadata": {
      "needs_background": "light"
     },
     "output_type": "display_data"
    }
   ],
   "source": [
    "plt.xticks(np.arange(0, 20, 1))\n",
    "plt.xlabel('Number of Food Deliveries from Farmers')\n",
    "plt.ylabel('Probability')\n",
    "plt.title('Probability Density Function for Deliveries')\n",
    "plt.plot(deliveries, probabilities, label='pdf')\n",
    "\n",
    "plot1 = np.polyfit(deliveries, probabilities, 6)\n",
    "pdf = np.poly1d(plot1)\n",
    "plt.plot(deliveries, pdf(deliveries), linewidth=2.5, label='fitted curve')\n",
    "plt.legend();"
   ]
  },
  {
   "cell_type": "code",
   "execution_count": 6,
   "metadata": {},
   "outputs": [
    {
     "name": "stdout",
     "output_type": "stream",
     "text": [
      "           6             5             4           3           2\n",
      "3.611e-07 x - 2.147e-05 x + 0.0004745 x - 0.00476 x + 0.02064 x - 0.02444 x + 0.02438\n"
     ]
    }
   ],
   "source": [
    "# show function for fitted curve\n",
    "print(pdf)"
   ]
  },
  {
   "cell_type": "markdown",
   "metadata": {},
   "source": [
    "#### Observations:\n",
    "\n",
    "1. I was a little surprised to see that fitting an equation to the graph required a sixth order polynomial.  I started with a '3' in the 'plot1' formula above and then through trial and error kept increasing that number until the graph showed a nice fit to the data.\n",
    "\n",
    "\n",
    "2. In this example we can see where the minima and maxima are by viewing the graph.  In a more complex example, or one with more than 20 possibilities, we might need first and second derivatives to determine minima and maxima.\n",
    "\n",
    "\n",
    "3. Although this is not a perfect fit for using the optimization methods that we studied in Module 3, there are a optimization problems that could come about when analyzing the business side of the problem.  For example, if we used this probability density function and factored in the number of workers required and the cost of each worker, then the problem might look at the bounds between 0 and 9, and then 10 and 19, and look at how to minimize costs while having enough workers on staff to accomodate the expected number of deliveries."
   ]
  },
  {
   "cell_type": "markdown",
   "metadata": {},
   "source": [
    "#### Below is a randomized version of the figures above"
   ]
  },
  {
   "cell_type": "code",
   "execution_count": 7,
   "metadata": {},
   "outputs": [],
   "source": [
    "probabilities1 = []                       # create empty list\n",
    "for i in range(0, 20):\n",
    "    i = random.random()                   # create random numbers between 0.0 and 1.0,  we'll do this 20 times\n",
    "    probabilities1.append(round(i, 4))    # round to 4 decimal places and add each of the numbers created to our list"
   ]
  },
  {
   "cell_type": "code",
   "execution_count": 8,
   "metadata": {},
   "outputs": [],
   "source": [
    "# scale figures so that they sum to one\n",
    "probabilities2 = [round(i / sum(probabilities1),4) for i in probabilities1]"
   ]
  },
  {
   "cell_type": "code",
   "execution_count": 9,
   "metadata": {},
   "outputs": [
    {
     "name": "stdout",
     "output_type": "stream",
     "text": [
      "1.0002\n"
     ]
    }
   ],
   "source": [
    "# let's make sure that this adds to 1.000\n",
    "print(sum(probabilities2))"
   ]
  },
  {
   "cell_type": "code",
   "execution_count": 10,
   "metadata": {},
   "outputs": [
    {
     "name": "stdout",
     "output_type": "stream",
     "text": [
      "[0.1003, 0.0196, 0.0121, 0.0754, 0.0222, 0.0077, 0.0642, 0.085, 0.0636, 0.0312, 0.0482, 0.0769, 0.0904, 0.0005, 0.0637, 0.0742, 0.0806, 0.0485, 0.0186, 0.0173] \n",
      "\n",
      "list length: 20\n"
     ]
    }
   ],
   "source": [
    "print(probabilities2, '\\n')\n",
    "print('list length:', len(probabilities2))"
   ]
  }
 ],
 "metadata": {
  "kernelspec": {
   "display_name": "Python 3",
   "language": "python",
   "name": "python3"
  },
  "language_info": {
   "codemirror_mode": {
    "name": "ipython",
    "version": 3
   },
   "file_extension": ".py",
   "mimetype": "text/x-python",
   "name": "python",
   "nbconvert_exporter": "python",
   "pygments_lexer": "ipython3",
   "version": "3.6.7"
  }
 },
 "nbformat": 4,
 "nbformat_minor": 2
}
